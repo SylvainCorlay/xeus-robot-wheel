{
 "cells": [
  {
   "cell_type": "code",
   "execution_count": null,
   "metadata": {},
   "outputs": [],
   "source": [
    "*** Settings ***\n",
    "\n",
    "Library  String\n",
    "\n",
    "*** Variables ***\n",
    "\n",
    "${VARNAME}  Coucou"
   ]
  },
  {
   "cell_type": "code",
   "execution_count": null,
   "metadata": {},
   "outputs": [],
   "source": [
    "*** Variables ***\n",
    "\n",
    "${VARNAME}  Hello World"
   ]
  },
  {
   "cell_type": "code",
   "execution_count": null,
   "metadata": {},
   "outputs": [],
   "source": [
    "*** Test Cases ***\n",
    "\n",
    "Test variable name\n",
    "    ${LOWER} =  Convert To Lower Case    ${VARNAME}\n",
    "    Should Be Lowercase   ${LOWER}\n",
    "    Should start with  ${LOWER}  hello\n",
    "\n",
    "Test variable name should fail\n",
    "    Should start with  ${VARNAME}  Coucou"
   ]
  },
  {
   "cell_type": "code",
   "execution_count": null,
   "metadata": {},
   "outputs": [],
   "source": [
    "*** Test Cases ***\n",
    "\n",
    "Test variable name should fail\n",
    "    Should start with  ${VARNAME}  Coucou"
   ]
  },
  {
   "cell_type": "code",
   "execution_count": null,
   "metadata": {},
   "outputs": [],
   "source": []
  }
 ],
 "metadata": {
  "kernelspec": {
   "display_name": "Robot Framework (xeus-robot)",
   "language": "robotframework",
   "name": "xrobot"
  },
  "language_info": {
   "codemirror_mode": "robotframework",
   "file_extension": ".robot",
   "mimetype": "text/x-robotframework",
   "name": "robotframework",
   "pygments_lexer": "robotframework",
   "version": "3.2"
  }
 },
 "nbformat": 4,
 "nbformat_minor": 4
}
